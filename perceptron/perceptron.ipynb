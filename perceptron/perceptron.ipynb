{
 "nbformat": 4,
 "nbformat_minor": 2,
 "metadata": {
  "language_info": {
   "name": "python",
   "codemirror_mode": {
    "name": "ipython",
    "version": 3
   },
   "version": "3.7.4-final"
  },
  "orig_nbformat": 2,
  "file_extension": ".py",
  "mimetype": "text/x-python",
  "name": "python",
  "npconvert_exporter": "python",
  "pygments_lexer": "ipython3",
  "version": 3,
  "kernelspec": {
   "name": "python37464bitbaseconda9c89419dc8ef472683ea9a6239254a2a",
   "display_name": "Python 3.7.4 64-bit ('base': conda)"
  }
 },
 "cells": [
  {
   "cell_type": "markdown",
   "execution_count": null,
   "metadata": {},
   "outputs": [],
   "source": [
    "## Perceptron\n",
    "\n",
    "[Source](https://medium.com/@thomascountz/19-line-line-by-line-python-perceptron-b6f113b161f3)\n"
   ]
  },
  {
   "cell_type": "code",
   "execution_count": 7,
   "metadata": {},
   "outputs": [],
   "source": [
    "import numpy as np\n",
    "\n",
    "class Perceptron: \n",
    "    \n",
    "    def __init__(self, no_of_inputs): \n",
    "        self.weights = np.zeros(no_of_inputs + 1)\n",
    "        \n",
    "    def predict(self, inputs): \n",
    "        summation = np.dot(inputs, self.weights[1:]) + self.weights[0]\n",
    "        if summation > 0:\n",
    "            activation = 1\n",
    "        else: \n",
    "            activation = 0\n",
    "        return activation\n",
    "    \n",
    "def train(perceptron, training_inputs, labels, threshold = 100, learning_rate = 0.01): \n",
    "    for _ in range(threshold): \n",
    "        for inputs, label in zip(training_inputs, labels): \n",
    "            prediction = perceptron.predict(inputs)\n",
    "            perceptron.weights[1:] += learning_rate * (label - prediction) * inputs\n",
    "            perceptron.weights[0] += learning_rate * (label - prediction)\n"
   ]
  },
  {
   "cell_type": "code",
   "execution_count": 8,
   "metadata": {},
   "outputs": [
    {
     "name": "stdout",
     "output_type": "stream",
     "text": "[-0.02  0.01  0.02]\n1\n0\n0\n0\n"
    }
   ],
   "source": [
    "training_inputs = []\n",
    "training_inputs.append(np.array([1, 1]))\n",
    "training_inputs.append(np.array([1, 0]))\n",
    "training_inputs.append(np.array([0, 1]))\n",
    "training_inputs.append(np.array([0, 0]))\n",
    "\n",
    "labels = np.array([1, 0, 0, 0])\n",
    "\n",
    "perceptron = Perceptron(2)\n",
    "train(perceptron, training_inputs, labels)\n",
    "\n",
    "print(perceptron.weights)\n",
    "\n",
    "for input in training_inputs: \n",
    "    print(perceptron.predict(input))\n"
   ]
  },
  {
   "cell_type": "code",
   "execution_count": 9,
   "metadata": {},
   "outputs": [
    {
     "data": {
      "image/png": "[encoded data removed]",
      "text/plain": "<Figure size 432x288 with 1 Axes>"
     },
     "metadata": {
      "needs_background": "light"
     },
     "output_type": "display_data"
    }
   ],
   "source": [
    "import matplotlib.pyplot as plt\n",
    "x = np.linspace(-0.5, 2, 100)\n",
    "y = [((perceptron.weights[0] * -1) + (perceptron.weights[1] * x_i * -1)) / perceptron.weights[2] for x_i in x]\n",
    "plt.plot(x, y) \n",
    "\n",
    "for inp in training_inputs:\n",
    "    plt.plot(inp[0], inp[1], 'or')\n",
    "    \n",
    "plt.grid(True, 'both')\n",
    "plt.show()\n"
   ]
  },
  {
   "cell_type": "code",
   "execution_count": null,
   "metadata": {},
   "outputs": [],
   "source": []
  }
 ]
}